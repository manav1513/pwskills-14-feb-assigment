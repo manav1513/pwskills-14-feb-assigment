{
 "cells": [
  {
   "cell_type": "code",
   "execution_count": 1,
   "id": "5aceecba-d5a0-405b-885f-624dfc28f35f",
   "metadata": {},
   "outputs": [],
   "source": [
    "# Q1. What is multithreading in python? hy is it used? Name the module used to handle \n",
    "# threads in python\n",
    "\n",
    "# ans = Multithreading in Python is a mechanism that allows multiple threads to\n",
    "# execute concurrently within a single process. Each thread represents an \n",
    "# independent flow of execution, and they can run in parallel, sharing the same\n",
    "# memory space and system resources.\n"
   ]
  },
  {
   "cell_type": "code",
   "execution_count": 2,
   "id": "5e6a717e-f521-4396-8e6f-91909d330b37",
   "metadata": {},
   "outputs": [],
   "source": [
    "# Q2.Why threading module used? Write the use of the following functions\n",
    "# 1.activeCount\n",
    "# 2. currentThread\n",
    "# 3. enumerate\n",
    "\n",
    "# ans = The threading module in Python is used to create and manage threads in \n",
    "# a Python program. It provides a simple and efficient way to create concurrent\n",
    "# programs that can take advantage of multi-core processors.\n",
    "\n",
    "\n",
    "\n",
    "# activeCount() - This function returns the number of currently active threads in the current program. It can be used to monitor the status of threads and detect when all threads have completed their tasks.\n",
    "\n",
    "# currentThread() - This function returns a reference to the currently executing thread object. It can be used to get information about the current thread, such as its name, ID, or status.\n",
    "\n",
    "# enumerate() - This function returns a list of all thread objects that are currently active in the program. It can be used to iterate over all the threads and perform some action on them, such as checking their status, waiting for them to complete, or terminating them.\n",
    "\n"
   ]
  },
  {
   "cell_type": "code",
   "execution_count": 4,
   "id": "a48922a7-3ef0-4fb1-ac1f-9395636fc1cb",
   "metadata": {},
   "outputs": [],
   "source": [
    "# Q3. Explain the following functions\n",
    "#  run\n",
    "#  start\n",
    "#  join\n",
    "#  isAlive\n",
    "\n",
    "# Ans = The following are some of the important functions in the Thread class of the threading module in Python, used for creating and managing threads:\n",
    "\n",
    "# run() - This function defines the code that the thread will execute when it is started. It should be overridden in a subclass to define the specific task the thread will perform.\n",
    "\n",
    "# start() - This function starts a thread's activity by calling the run() method. It initializes the thread and starts its execution. Once started, the thread will run in the background and execute its task.\n",
    "\n",
    "# join() - This function waits for the thread to complete its task and join the main program. When a thread is started, the main program can continue running while the thread runs in \n",
    "       \n",
    "#isAlive() - This function returns a boolean value indicating whether the thread is currently running or not. It can be used to check the status of the thread and determine if it has completed its task.\n"
   ]
  },
  {
   "cell_type": "code",
   "execution_count": 6,
   "id": "2034f121-e630-4ecc-9867-426a519e7805",
   "metadata": {},
   "outputs": [],
   "source": [
    "# 4. Write a python program to create two threads. Thread one must print the list of squares and thread\n",
    "# two must print the list of cubes\n",
    "\n",
    "\n",
    "import threading\n",
    "\n",
    "def print_squares():\n",
    "    for i in range(1, 11):\n",
    "        print(f\"Square of {i} is {i*i}\")\n",
    "\n",
    "def print_cubes():\n",
    "    for i in range(1, 11):\n",
    "        print(f\"Cube of {i} is {i*i*i}\")\n",
    "\n",
    "if _name_ == \"_main_\":\n",
    "    # create the first thread to print squares\n",
    "    t1 = threading.Thread(target=print_squares)\n",
    "\n",
    "    # create the second thread to print cubes\n",
    "    t2 = threading.Thread(target=print_cubes)\n",
    "\n",
    "    # start both threads\n",
    "     t1.start()\n",
    "    t2.start()\n",
    "\n",
    "    # wait for both threads to complete\n",
    "    t1.join()\n",
    "    t2.join()\n",
    "\n",
    "    print(\"Both threads have completed their tasks\")\n",
    "\n"
   ]
  },
  {
   "cell_type": "code",
   "execution_count": 7,
   "id": "204ee1fb-1fc3-48d7-8598-6595944fd4d4",
   "metadata": {},
   "outputs": [],
   "source": [
    "# 5. State advantages and disadvantages of multithreading\n",
    "\n",
    "# ans = Multithreading is a powerful programming technique that can offer several \n",
    "# advantages in the right situations, but it also has some drawbacks that need \n",
    "# to be considered.\n",
    "\n",
    "# Advantages:\n",
    "\n",
    "# Increased performance - Multithreading can improve the performance of a program by allowing it to perform multiple tasks concurrently. By executing multiple threads in parallel, a program can take full advantage of the available CPU resources and reduce the overall execution time.\n",
    "\n",
    "# Responsiveness - Multithreading can make a program more responsive by separating long-running tasks from the user interface. By running long-running tasks in a separate thread, a program can continue to accept user input and update the UI, even if the task is not yet completed.\n",
    "\n",
    "# Disadvantages:\n",
    "\n",
    "# Complexity - Multithreaded programs are often more complex than single-threaded programs, and they require careful design and testing to ensure they work correctly. Synchronization and coordination between threads can be challenging to implement and debug.\n",
    "\n",
    "# Synchronization overhead - Multithreading can introduce synchronization overhead, which can reduce the overall performance of the program. Locking and synchronization mechanisms can introduce additional processing time, which can negate some of the benefits of multithreading.\n"
   ]
  },
  {
   "cell_type": "code",
   "execution_count": 8,
   "id": "3dd72090-3276-4769-bc45-87ba5665f1b6",
   "metadata": {},
   "outputs": [],
   "source": [
    "# 6. Explain deadlocks and race conditions.\n",
    "\n",
    "# Deadlocks and race conditions are two common synchronization issues that can occur in multithreaded programs.\n",
    "\n",
    "# Deadlocks:\n",
    "# A deadlock occurs when two or more threads are blocked and waiting for each other to release a resource, without any of them being able to proceed. This situation can arise when two or more threads hold exclusive locks on resources that other threads need, and they refuse to release them until they have acquired all the resources they need. This creates a circular dependency, where each thread is waiting for the other to release a resource.\n",
    "\n"
   ]
  },
  {
   "cell_type": "code",
   "execution_count": null,
   "id": "ffdcd1ef-0a8b-493f-b908-6f8001e30d9c",
   "metadata": {},
   "outputs": [],
   "source": []
  }
 ],
 "metadata": {
  "kernelspec": {
   "display_name": "Python 3 (ipykernel)",
   "language": "python",
   "name": "python3"
  },
  "language_info": {
   "codemirror_mode": {
    "name": "ipython",
    "version": 3
   },
   "file_extension": ".py",
   "mimetype": "text/x-python",
   "name": "python",
   "nbconvert_exporter": "python",
   "pygments_lexer": "ipython3",
   "version": "3.10.8"
  }
 },
 "nbformat": 4,
 "nbformat_minor": 5
}
